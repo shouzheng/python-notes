{
 "cells": [
  {
   "cell_type": "markdown",
   "metadata": {},
   "source": [
    "# 自定义类"
   ]
  },
  {
   "cell_type": "markdown",
   "metadata": {},
   "source": [
    "## 私有属性和方法\n",
    "\n",
    "Python没有为私有属性提供直接的支持，然而，通过玩点小花招，可获得类似于私有属性的效果。\n",
    "\n",
    "要让方法或属性成为私有的（不能从外部访问），只需让*其名称以两个下划线打头*即可。\n",
    "\n",
    "在幕后，python会对所有以两个下划线打头的名称都进行转换，即在开头加上一个下划线和类名。只要知道这种幕后处理手法，就能从类外访问私有方法，然而不应这样做。总之，你无法禁止别人访问对象的私有方法和属性，但这种名称修改方式发出了强烈的信号，让他们不要这样做。\n",
    "\n",
    "如果你不希望名称被修改，又想发出不要从外部修改属性或方法的信号，*可用一个下划线打头*。这虽然只是一种约定，但也有些作用。例如， `from module import *`不会导入以一个下划线打头的名称。"
   ]
  },
  {
   "cell_type": "code",
   "execution_count": 1,
   "metadata": {},
   "outputs": [],
   "source": [
    "class Secretive:\n",
    "\n",
    "    def __inaccessible(self):\n",
    "        print(\"Bet you can't see me ...\")\n",
    "\n",
    "    \n",
    "    def _ignore_me(self):\n",
    "        print(\"you should not call me outside.\")\n",
    "\n",
    "    \n",
    "    def accessible(self):\n",
    "        print(\"The secret message is:\")\n",
    "        self.__inaccessible()"
   ]
  },
  {
   "cell_type": "code",
   "execution_count": 2,
   "metadata": {},
   "outputs": [
    {
     "name": "stdout",
     "output_type": "stream",
     "text": [
      "The secret message is:\n",
      "Bet you can't see me ...\n",
      "you should not call me outside.\n"
     ]
    }
   ],
   "source": [
    "s = Secretive()\n",
    "s.accessible()\n",
    "s._ignore_me()  # 不要这么做"
   ]
  },
  {
   "cell_type": "code",
   "execution_count": 3,
   "metadata": {},
   "outputs": [
    {
     "name": "stdout",
     "output_type": "stream",
     "text": [
      "Bet you can't see me ...\n"
     ]
    }
   ],
   "source": [
    "# s.__inaccessible()\n",
    "s._Secretive__inaccessible()  # 在幕后，python会对所有以两个下划线打头的名称都进行转换，即在开头加上一个下划线和类名"
   ]
  },
  {
   "cell_type": "markdown",
   "metadata": {},
   "source": [
    "## 类命名空间\n",
    "\n",
    "类定义其实就是创造一个命名空间，将相关的代码放到这个命名空间下，即类的命名空间。基于类创建的实例，又创建了一个命名空间，关联实例所特有的属性，即实例的命名空间。\n",
    "\n",
    "类定义中，并非只能包含def语句。"
   ]
  },
  {
   "cell_type": "code",
   "execution_count": 4,
   "metadata": {},
   "outputs": [
    {
     "name": "stdout",
     "output_type": "stream",
     "text": [
      "Class C being defined...\n"
     ]
    }
   ],
   "source": [
    "class C:\n",
    "    print('Class C being defined...')"
   ]
  },
  {
   "cell_type": "code",
   "execution_count": 5,
   "metadata": {},
   "outputs": [],
   "source": [
    "class MemberCounter:\n",
    "    members = 0  # 在类命名空间定义的变量，所有的实例都可以访问\n",
    "    def init(self):\n",
    "        MemberCounter.members += 1"
   ]
  },
  {
   "cell_type": "code",
   "execution_count": 6,
   "metadata": {},
   "outputs": [
    {
     "data": {
      "text/plain": [
       "1"
      ]
     },
     "execution_count": 6,
     "metadata": {},
     "output_type": "execute_result"
    }
   ],
   "source": [
    "m1 = MemberCounter()\n",
    "m1.init()\n",
    "MemberCounter.members"
   ]
  },
  {
   "cell_type": "code",
   "execution_count": 7,
   "metadata": {},
   "outputs": [
    {
     "data": {
      "text/plain": [
       "2"
      ]
     },
     "execution_count": 7,
     "metadata": {},
     "output_type": "execute_result"
    }
   ],
   "source": [
    "m2 = MemberCounter()\n",
    "m2.init()\n",
    "MemberCounter.members"
   ]
  },
  {
   "cell_type": "code",
   "execution_count": 8,
   "metadata": {},
   "outputs": [
    {
     "data": {
      "text/plain": [
       "(2, 2)"
      ]
     },
     "execution_count": 8,
     "metadata": {},
     "output_type": "execute_result"
    }
   ],
   "source": [
    "m1.members, m2.members"
   ]
  },
  {
   "cell_type": "code",
   "execution_count": 9,
   "metadata": {},
   "outputs": [
    {
     "data": {
      "text/plain": [
       "('Two', 2)"
      ]
     },
     "execution_count": 9,
     "metadata": {},
     "output_type": "execute_result"
    }
   ],
   "source": [
    "m1.members = 'Two'  # 这样会在实例命名空间下定义同名变量，并遮盖了类变量\n",
    "m1.members, m2.members"
   ]
  },
  {
   "cell_type": "markdown",
   "metadata": {},
   "source": [
    "## 指定超类"
   ]
  },
  {
   "cell_type": "code",
   "execution_count": 10,
   "metadata": {},
   "outputs": [],
   "source": [
    "class Filter:\n",
    "    def init(self):\n",
    "        self.blocked = []\n",
    "    def filter(self, sequence):\n",
    "        return [x for x in sequence if x not in self.blocked]\n",
    "\n",
    "class SPAMFilter(Filter):  # 括号内指定超类\n",
    "    def init(self):  # 重写init方法\n",
    "        self.blocked = ['SPAM']"
   ]
  },
  {
   "cell_type": "code",
   "execution_count": 11,
   "metadata": {},
   "outputs": [
    {
     "data": {
      "text/plain": [
       "[1, 2, 3]"
      ]
     },
     "execution_count": 11,
     "metadata": {},
     "output_type": "execute_result"
    }
   ],
   "source": [
    "f = Filter()\n",
    "f.init()\n",
    "f.filter([1, 2, 3])"
   ]
  },
  {
   "cell_type": "code",
   "execution_count": 12,
   "metadata": {},
   "outputs": [
    {
     "data": {
      "text/plain": [
       "['eggs', 'bacon']"
      ]
     },
     "execution_count": 12,
     "metadata": {},
     "output_type": "execute_result"
    }
   ],
   "source": [
    "s = SPAMFilter()\n",
    "s.init()\n",
    "s.filter(['SPAM', 'SPAM', 'SPAM', 'SPAM', 'eggs', 'bacon', 'SPAM'])"
   ]
  },
  {
   "cell_type": "code",
   "execution_count": 13,
   "metadata": {},
   "outputs": [
    {
     "data": {
      "text/plain": [
       "True"
      ]
     },
     "execution_count": 13,
     "metadata": {},
     "output_type": "execute_result"
    }
   ],
   "source": [
    "# issubclass: 判断子类关系\n",
    "issubclass(SPAMFilter, Filter)"
   ]
  },
  {
   "cell_type": "code",
   "execution_count": 14,
   "metadata": {},
   "outputs": [
    {
     "data": {
      "text/plain": [
       "(True, True)"
      ]
     },
     "execution_count": 14,
     "metadata": {},
     "output_type": "execute_result"
    }
   ],
   "source": [
    "# isinstance: 判断实例关系\n",
    "isinstance(s, SPAMFilter), isinstance(s, Filter)"
   ]
  },
  {
   "cell_type": "code",
   "execution_count": 15,
   "metadata": {},
   "outputs": [
    {
     "data": {
      "text/plain": [
       "(__main__.Filter,)"
      ]
     },
     "execution_count": 15,
     "metadata": {},
     "output_type": "execute_result"
    }
   ],
   "source": [
    "# __bases__返回类的基类\n",
    "SPAMFilter.__bases__"
   ]
  },
  {
   "cell_type": "code",
   "execution_count": 16,
   "metadata": {},
   "outputs": [
    {
     "data": {
      "text/plain": [
       "__main__.SPAMFilter"
      ]
     },
     "execution_count": 16,
     "metadata": {},
     "output_type": "execute_result"
    }
   ],
   "source": [
    "# __class__返回实例的类\n",
    "s.__class__"
   ]
  },
  {
   "cell_type": "code",
   "execution_count": 17,
   "metadata": {},
   "outputs": [],
   "source": [
    "# python支持多继承\n",
    "\n",
    "class Calculator:\n",
    "    def calculate(self, expression):\n",
    "        self.value = eval(expression)\n",
    "\n",
    "class Talker:\n",
    "    def talk(self):\n",
    "        print('Hi, my value is', self.value)\n",
    "\n",
    "\"\"\"\n",
    "应尽量避免使用多继承，需要注意括号内超类的顺序对同名方法的覆盖关系有影响。\n",
    "\"\"\"\n",
    "\n",
    "class TalkingCalculator(Calculator, Talker):\n",
    "    pass"
   ]
  },
  {
   "cell_type": "code",
   "execution_count": 18,
   "metadata": {},
   "outputs": [
    {
     "name": "stdout",
     "output_type": "stream",
     "text": [
      "Hi, my value is 7\n"
     ]
    }
   ],
   "source": [
    "tc = TalkingCalculator()\n",
    "tc.calculate('1 + 2 * 3')\n",
    "tc.talk()"
   ]
  },
  {
   "cell_type": "markdown",
   "metadata": {},
   "source": [
    "## 接口和内省\n",
    "\n",
    "我们编写的自定义类或函数是为了在某个地方进行应用，代码不是封闭的，上层代码一般需要提供输入给目标类，并从目标类中获取对应的结果。\n",
    "\n",
    "在我们编写的类内部，一般对传入的参数/输入有一些期望，比如参数是什么类型？需要提供什么方法？等。\n",
    "\n",
    "在Python的世界里，我们有2种方式：1种是相信上层代码知道该传什么，直接按照预期的方式去使用，比如直接调用 arg.method_a()。如果参数不满足要求，允许程序直接失败；第2种是我们尽量检查传入的参数是否符合要求，只有符合要求的情况下才会调用。\n",
    "\n",
    "标题中的“接口”，即要求对象实现特定的方法，或提供特定的熟悉；“内省”，即可通过一定的手段对其进行检查。\n",
    "\n",
    "p.s. 第1种方式又称为鸭子类型，即假设所有对象都能完成其工作。"
   ]
  },
  {
   "cell_type": "code",
   "execution_count": 19,
   "metadata": {},
   "outputs": [
    {
     "data": {
      "text/plain": [
       "True"
      ]
     },
     "execution_count": 19,
     "metadata": {},
     "output_type": "execute_result"
    }
   ],
   "source": [
    "# hasattr: 检查对象具备某个属性\n",
    "hasattr(tc, 'talk')"
   ]
  },
  {
   "cell_type": "code",
   "execution_count": 20,
   "metadata": {},
   "outputs": [
    {
     "data": {
      "text/plain": [
       "False"
      ]
     },
     "execution_count": 20,
     "metadata": {},
     "output_type": "execute_result"
    }
   ],
   "source": [
    "hasattr(tc, \"fnord\")"
   ]
  },
  {
   "cell_type": "code",
   "execution_count": 21,
   "metadata": {},
   "outputs": [
    {
     "data": {
      "text/plain": [
       "True"
      ]
     },
     "execution_count": 21,
     "metadata": {},
     "output_type": "execute_result"
    }
   ],
   "source": [
    "# getattr: 获取对应的属性\n",
    "# callable: 检查是否可调用\n",
    "\n",
    "callable(getattr(tc, 'talk', None))  # getattr的第3个参数：表示属性不存在时返回None"
   ]
  },
  {
   "cell_type": "code",
   "execution_count": 22,
   "metadata": {},
   "outputs": [
    {
     "data": {
      "text/plain": [
       "False"
      ]
     },
     "execution_count": 22,
     "metadata": {},
     "output_type": "execute_result"
    }
   ],
   "source": [
    "callable(getattr(tc, 'fnord', None))"
   ]
  },
  {
   "cell_type": "code",
   "execution_count": 23,
   "metadata": {},
   "outputs": [
    {
     "data": {
      "text/plain": [
       "'Mr. Gumby'"
      ]
     },
     "execution_count": 23,
     "metadata": {},
     "output_type": "execute_result"
    }
   ],
   "source": [
    "# setattr: 设置对象的属性\n",
    "setattr(tc, 'name', 'Mr. Gumby')\n",
    "tc.name"
   ]
  },
  {
   "cell_type": "code",
   "execution_count": 24,
   "metadata": {},
   "outputs": [
    {
     "data": {
      "text/plain": [
       "{'value': 7, 'name': 'Mr. Gumby'}"
      ]
     },
     "execution_count": 24,
     "metadata": {},
     "output_type": "execute_result"
    }
   ],
   "source": [
    "# __dict__ 可用于查看对象中存储的所有值\n",
    "tc.__dict__"
   ]
  },
  {
   "cell_type": "markdown",
   "metadata": {},
   "source": [
    "## 抽象基类\n",
    "\n",
    "抽象基类可以定义抽象的方法，并要求子类实现，如果不实现将无法实例化。\n",
    "\n",
    "抽象基类可用于针对应满足的协议进行定义：即目标类应该定义某些方法。这样我们可以不必一一检查每一个属性/方法是否存在，而是通过检查类实例是否属于该抽象基类的实例即可。\n",
    "\n",
    "对于历史的代码，我们可以通过注册的方式，声明它属于新定义的抽象基类，但是需要用户自己确保它满足基类所有的协议。"
   ]
  },
  {
   "cell_type": "code",
   "execution_count": 25,
   "metadata": {},
   "outputs": [],
   "source": [
    "# abc模块提供了这种机制的实现\n",
    "\n",
    "from abc import ABC, abstractclassmethod\n",
    "\n",
    "class Talker(ABC):\n",
    "\n",
    "    @abstractclassmethod\n",
    "    def talk(self):\n",
    "        pass"
   ]
  },
  {
   "cell_type": "code",
   "execution_count": 26,
   "metadata": {},
   "outputs": [
    {
     "ename": "TypeError",
     "evalue": "Can't instantiate abstract class Talker with abstract method talk",
     "output_type": "error",
     "traceback": [
      "\u001b[1;31m---------------------------------------------------------------------------\u001b[0m",
      "\u001b[1;31mTypeError\u001b[0m                                 Traceback (most recent call last)",
      "Cell \u001b[1;32mIn[26], line 3\u001b[0m\n\u001b[0;32m      1\u001b[0m \u001b[39m# TypeError: Can't instantiate abstract class Talker with abstract methods talk\u001b[39;00m\n\u001b[1;32m----> 3\u001b[0m Talker()\n",
      "\u001b[1;31mTypeError\u001b[0m: Can't instantiate abstract class Talker with abstract method talk"
     ]
    }
   ],
   "source": [
    "# TypeError: Can't instantiate abstract class Talker with abstract methods talk\n",
    "\n",
    "Talker()"
   ]
  },
  {
   "cell_type": "code",
   "execution_count": 27,
   "metadata": {},
   "outputs": [
    {
     "name": "stdout",
     "output_type": "stream",
     "text": [
      "Ni!\n"
     ]
    },
    {
     "data": {
      "text/plain": [
       "True"
      ]
     },
     "execution_count": 27,
     "metadata": {},
     "output_type": "execute_result"
    }
   ],
   "source": [
    "# 派生子类，实现抽象的方法，则可以实例化该子类\n",
    "\n",
    "class Knigget(Talker):\n",
    "    def talk(self):\n",
    "        print(\"Ni!\")\n",
    "\n",
    "k = Knigget()\n",
    "k.talk()\n",
    "isinstance(k, Talker)  # 通过接口类型检查，可以确定实例实现了接口的所有的方法/协议，避免一个个检查"
   ]
  },
  {
   "cell_type": "code",
   "execution_count": 28,
   "metadata": {},
   "outputs": [
    {
     "name": "stdout",
     "output_type": "stream",
     "text": [
      "Blub.\n"
     ]
    },
    {
     "data": {
      "text/plain": [
       "False"
      ]
     },
     "execution_count": 28,
     "metadata": {},
     "output_type": "execute_result"
    }
   ],
   "source": [
    "# 可以将非继承关系包装成继承关系，在兼容历史代码时可能有用\n",
    "\n",
    "class Herring:\n",
    "    def talk(self):\n",
    "        print(\"Blub.\")\n",
    "\n",
    "h = Herring()\n",
    "h.talk()\n",
    "isinstance(h, Talker)  # False"
   ]
  },
  {
   "cell_type": "code",
   "execution_count": 29,
   "metadata": {},
   "outputs": [
    {
     "data": {
      "text/plain": [
       "True"
      ]
     },
     "execution_count": 29,
     "metadata": {},
     "output_type": "execute_result"
    }
   ],
   "source": [
    "# 包装的关键是使用 register 方法\n",
    "Talker.register(Herring)\n",
    "\n",
    "isinstance(h, Talker)  # True"
   ]
  },
  {
   "cell_type": "code",
   "execution_count": 30,
   "metadata": {},
   "outputs": [
    {
     "ename": "AttributeError",
     "evalue": "'Clam' object has no attribute 'talk'",
     "output_type": "error",
     "traceback": [
      "\u001b[1;31m---------------------------------------------------------------------------\u001b[0m",
      "\u001b[1;31mAttributeError\u001b[0m                            Traceback (most recent call last)",
      "Cell \u001b[1;32mIn[30], line 10\u001b[0m\n\u001b[0;32m      7\u001b[0m c \u001b[39m=\u001b[39m Clam()\n\u001b[0;32m      8\u001b[0m \u001b[39misinstance\u001b[39m(c, Talker)  \u001b[39m# True\u001b[39;00m\n\u001b[1;32m---> 10\u001b[0m c\u001b[39m.\u001b[39;49mtalk()  \u001b[39m# AttributeError: 'Clam' object has no attribute 'talk'\u001b[39;00m\n",
      "\u001b[1;31mAttributeError\u001b[0m: 'Clam' object has no attribute 'talk'"
     ]
    }
   ],
   "source": [
    "# 包装的方法，需要用户自行确保协议安全性。从抽象类提供的保障将不存在\n",
    "class Clam:\n",
    "    pass\n",
    "\n",
    "Talker.register(Clam)\n",
    "\n",
    "c = Clam()\n",
    "isinstance(c, Talker)  # True\n",
    "\n",
    "c.talk()  # AttributeError: 'Clam' object has no attribute 'talk'"
   ]
  },
  {
   "cell_type": "code",
   "execution_count": null,
   "metadata": {},
   "outputs": [],
   "source": []
  }
 ],
 "metadata": {
  "interpreter": {
   "hash": "0505a141b7028e128ad26f15436d60bea4d56aa176bee2811f6c124dab9ff921"
  },
  "kernelspec": {
   "display_name": "Python 3.8.5 ('machine-learning')",
   "language": "python",
   "name": "python3"
  },
  "language_info": {
   "codemirror_mode": {
    "name": "ipython",
    "version": 3
   },
   "file_extension": ".py",
   "mimetype": "text/x-python",
   "name": "python",
   "nbconvert_exporter": "python",
   "pygments_lexer": "ipython3",
   "version": "3.10.12"
  },
  "orig_nbformat": 4
 },
 "nbformat": 4,
 "nbformat_minor": 2
}
