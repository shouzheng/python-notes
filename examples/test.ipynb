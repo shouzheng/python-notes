{
 "cells": [
  {
   "cell_type": "code",
   "execution_count": 1,
   "metadata": {},
   "outputs": [],
   "source": [
    "class OuterAlgo_1:\n",
    "    def fit1(self):\n",
    "        print('in fit1...')\n",
    "\n",
    "\n",
    "class OuterAlgo_2:\n",
    "    def fit2(self):\n",
    "        print('in fit2...')\n",
    "\n",
    "\n",
    "class Algo:\n",
    "    def fit(self):\n",
    "        print('in Algo...')\n",
    "\n",
    "\n",
    "def adapter(algoSpec):\n",
    "    result = []\n",
    "    for spec in algoSpec:\n",
    "        print(spec)\n",
    "        class _Inner(Algo):\n",
    "            def fit(self):\n",
    "                print(f'in fit in inner class for {spec[\"estimator\"]}')\n",
    "                algo = spec['estimator']()\n",
    "                method = getattr(algo, spec['method'])\n",
    "                method()\n",
    "        result.append(_Inner)\n",
    "    return result"
   ]
  },
  {
   "cell_type": "code",
   "execution_count": 2,
   "metadata": {},
   "outputs": [
    {
     "name": "stdout",
     "output_type": "stream",
     "text": [
      "{'estimator': <class '__main__.OuterAlgo_1'>, 'method': 'fit1'}\n",
      "{'estimator': <class '__main__.OuterAlgo_2'>, 'method': 'fit2'}\n"
     ]
    }
   ],
   "source": [
    "algoSpec = [\n",
    "    {\n",
    "        'estimator': OuterAlgo_1,\n",
    "        'method': 'fit1'\n",
    "    }, {\n",
    "        'estimator': OuterAlgo_2,\n",
    "        'method': 'fit2'\n",
    "    }\n",
    "]\n",
    "\n",
    "result = adapter(algoSpec=algoSpec)"
   ]
  },
  {
   "cell_type": "code",
   "execution_count": 3,
   "metadata": {},
   "outputs": [
    {
     "data": {
      "text/plain": [
       "[__main__.adapter.<locals>._Inner, __main__.adapter.<locals>._Inner]"
      ]
     },
     "execution_count": 3,
     "metadata": {},
     "output_type": "execute_result"
    }
   ],
   "source": [
    "result"
   ]
  },
  {
   "cell_type": "code",
   "execution_count": 4,
   "metadata": {},
   "outputs": [
    {
     "name": "stdout",
     "output_type": "stream",
     "text": [
      "in fit in inner class for <class '__main__.OuterAlgo_2'>\n",
      "in fit2...\n",
      "------\n",
      "in fit in inner class for <class '__main__.OuterAlgo_2'>\n",
      "in fit2...\n",
      "------\n"
     ]
    }
   ],
   "source": [
    "for algo in result:\n",
    "    algo().fit()\n",
    "    print('------')"
   ]
  },
  {
   "cell_type": "code",
   "execution_count": 5,
   "metadata": {},
   "outputs": [],
   "source": [
    "from typing import Any\n",
    "\n",
    "\n",
    "class A:\n",
    "    def __call__(self, *args: Any, **kwds: Any) -> Any:\n",
    "        pass\n",
    "\n",
    "class B:\n",
    "    pass"
   ]
  },
  {
   "cell_type": "code",
   "execution_count": 6,
   "metadata": {},
   "outputs": [],
   "source": [
    "from typing import Callable"
   ]
  },
  {
   "cell_type": "code",
   "execution_count": 7,
   "metadata": {},
   "outputs": [
    {
     "data": {
      "text/plain": [
       "True"
      ]
     },
     "execution_count": 7,
     "metadata": {},
     "output_type": "execute_result"
    }
   ],
   "source": [
    "isinstance(B, Callable)"
   ]
  },
  {
   "cell_type": "code",
   "execution_count": 8,
   "metadata": {},
   "outputs": [],
   "source": [
    "class A:\n",
    "    def add(self, x, y):\n",
    "        return x + y\n",
    "    \n",
    "    def add(self, x):\n",
    "        return x"
   ]
  },
  {
   "cell_type": "code",
   "execution_count": 9,
   "metadata": {},
   "outputs": [],
   "source": [
    "from sklearn.neighbors import KNeighborsClassifier"
   ]
  },
  {
   "cell_type": "code",
   "execution_count": 10,
   "metadata": {},
   "outputs": [
    {
     "data": {
      "text/plain": [
       "dict_items([(<class 'sklearn.neighbors._classification.KNeighborsClassifier'>, 'KNeighborsClassifier')])"
      ]
     },
     "execution_count": 10,
     "metadata": {},
     "output_type": "execute_result"
    }
   ],
   "source": [
    "{KNeighborsClassifier: KNeighborsClassifier.__name__}.items()"
   ]
  },
  {
   "cell_type": "code",
   "execution_count": 11,
   "metadata": {},
   "outputs": [],
   "source": [
    "def temp(a, b):\n",
    "    return a+b"
   ]
  },
  {
   "cell_type": "code",
   "execution_count": 12,
   "metadata": {},
   "outputs": [
    {
     "data": {
      "text/plain": [
       "[__main__.B]"
      ]
     },
     "execution_count": 12,
     "metadata": {},
     "output_type": "execute_result"
    }
   ],
   "source": [
    "class A:\n",
    "    pass\n",
    "\n",
    "class B(A):\n",
    "    pass\n",
    "\n",
    "A.__subclasses__()"
   ]
  },
  {
   "cell_type": "code",
   "execution_count": 13,
   "metadata": {},
   "outputs": [],
   "source": [
    "class C(A):\n",
    "    pass"
   ]
  },
  {
   "cell_type": "code",
   "execution_count": 14,
   "metadata": {},
   "outputs": [
    {
     "data": {
      "text/plain": [
       "[__main__.B, __main__.C]"
      ]
     },
     "execution_count": 14,
     "metadata": {},
     "output_type": "execute_result"
    }
   ],
   "source": [
    "A.__subclasses__()"
   ]
  },
  {
   "cell_type": "code",
   "execution_count": 15,
   "metadata": {},
   "outputs": [],
   "source": [
    "class D(B):\n",
    "    pass"
   ]
  },
  {
   "cell_type": "code",
   "execution_count": 16,
   "metadata": {},
   "outputs": [
    {
     "data": {
      "text/plain": [
       "[__main__.D]"
      ]
     },
     "execution_count": 16,
     "metadata": {},
     "output_type": "execute_result"
    }
   ],
   "source": [
    "B.__subclasses__()"
   ]
  },
  {
   "cell_type": "code",
   "execution_count": null,
   "metadata": {},
   "outputs": [],
   "source": []
  }
 ],
 "metadata": {
  "kernelspec": {
   "display_name": "py310",
   "language": "python",
   "name": "python3"
  },
  "language_info": {
   "codemirror_mode": {
    "name": "ipython",
    "version": 3
   },
   "file_extension": ".py",
   "mimetype": "text/x-python",
   "name": "python",
   "nbconvert_exporter": "python",
   "pygments_lexer": "ipython3",
   "version": "3.10.12"
  },
  "orig_nbformat": 4
 },
 "nbformat": 4,
 "nbformat_minor": 2
}
